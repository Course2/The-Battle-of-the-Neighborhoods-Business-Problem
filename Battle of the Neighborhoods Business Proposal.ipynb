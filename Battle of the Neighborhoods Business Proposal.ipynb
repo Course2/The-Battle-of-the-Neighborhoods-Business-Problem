{
    "cells": [
        {
            "cell_type": "markdown",
            "metadata": {
                "collapsed": true
            },
            "source": "# Applied Data Science Capstone Project - The Battle of The Neighborhoods."
        },
        {
            "cell_type": "markdown",
            "metadata": {},
            "source": "#  Growth in the Restaurant Business."
        },
        {
            "cell_type": "markdown",
            "metadata": {},
            "source": "## Alberta canada"
        },
        {
            "cell_type": "markdown",
            "metadata": {},
            "source": "### Introduction"
        },
        {
            "cell_type": "markdown",
            "metadata": {},
            "source": "#### Alberta is a province in western Canada. It's one of the 3 Prairie Provinces in Canada bordered by British Columbia to the west,      \n      "
        },
        {
            "cell_type": "markdown",
            "metadata": {},
            "source": "#### Saskatchewan to the east, the Northwest Territories to the north and the U.S. state Montana to the south."
        },
        {
            "cell_type": "markdown",
            "metadata": {},
            "source": "#### The capital of Alberta is Edmonton, located near the center of the province and 180 miles north of Calgary, the largest city of Alberta.\n"
        },
        {
            "cell_type": "markdown",
            "metadata": {},
            "source": "#### "
        },
        {
            "cell_type": "markdown",
            "metadata": {},
            "source": "#### Alberta is the 4th most populous province of Canada and the most populous of the prairie provinces.  Alberta has an           "
        },
        {
            "cell_type": "markdown",
            "metadata": {},
            "source": "#### estimated population of 4.08 million, up from 3.645 million in 2011. The province has a population density of 6 people "
        },
        {
            "cell_type": "markdown",
            "metadata": {},
            "source": "#### per square kilometer, or 15 people per square mile.  To read more about Alberta demography go to https://www.AlbertaPopulation2020"
        },
        {
            "cell_type": "markdown",
            "metadata": {},
            "source": "#### "
        },
        {
            "cell_type": "markdown",
            "metadata": {},
            "source": "#### Alberta has a unique and vibrant culture that has been largely shaped by immigrants who have settled in the province.     "
        },
        {
            "cell_type": "markdown",
            "metadata": {},
            "source": "#### Throughout the province, but especially in the major cities of Calgary and Edmonton, one can find the culture, cuisine,"
        },
        {
            "cell_type": "markdown",
            "metadata": {},
            "source": "#### music and arts of communities from all over the world.  For more on Alberta\u2019s culture go to https://www.canadavisa.com "
        },
        {
            "cell_type": "markdown",
            "metadata": {},
            "source": "#### "
        },
        {
            "cell_type": "markdown",
            "metadata": {},
            "source": "#### Alberta has a  rugged and very beautiful landscape.  The population is ethnically diverse.  This project aims to take "
        },
        {
            "cell_type": "markdown",
            "metadata": {},
            "source": "#### a trip to Alberta Canada by means of Data Science."
        },
        {
            "cell_type": "markdown",
            "metadata": {},
            "source": "#### "
        },
        {
            "cell_type": "markdown",
            "metadata": {},
            "source": "### Business problem"
        },
        {
            "cell_type": "markdown",
            "metadata": {},
            "source": "#### A business problem is always a business opportunity.       "
        },
        {
            "cell_type": "markdown",
            "metadata": {},
            "source": "#### "
        },
        {
            "cell_type": "markdown",
            "metadata": {},
            "source": "#### The goal of this project is to decide if there is an opportunity to open more restaurants in Alberta Canada."
        },
        {
            "cell_type": "markdown",
            "metadata": {},
            "source": "#### We know when people get together the best conversations take place around foods and drinks."
        },
        {
            "cell_type": "markdown",
            "metadata": {},
            "source": "#### Currently with the presence of Covid-19, life is about being alone or being in quarantine and that goes "
        },
        {
            "cell_type": "markdown",
            "metadata": {},
            "source": "#### for nearly the whole wide world."
        },
        {
            "cell_type": "markdown",
            "metadata": {},
            "source": "#### "
        },
        {
            "cell_type": "markdown",
            "metadata": {},
            "source": "#### However we know at one point in the near future normalcy will return.  With that in mind, economies will start growing again.  "
        },
        {
            "cell_type": "markdown",
            "metadata": {},
            "source": "#### People will want to get together to eat, to drink, to laugh  and to have a good time at  restaurants and other venues."
        },
        {
            "cell_type": "markdown",
            "metadata": {},
            "source": "#### I aim to explore the province of Alberta in Canada to see if there is room to open a few more restaurants.   "
        },
        {
            "cell_type": "markdown",
            "metadata": {},
            "source": "--------------------------------------------------------------------------------------------------------------------------------------------------"
        }
    ],
    "metadata": {
        "kernelspec": {
            "display_name": "Python 3.7",
            "language": "python",
            "name": "python3"
        },
        "language_info": {
            "codemirror_mode": {
                "name": "ipython",
                "version": 3
            },
            "file_extension": ".py",
            "mimetype": "text/x-python",
            "name": "python",
            "nbconvert_exporter": "python",
            "pygments_lexer": "ipython3",
            "version": "3.7.9"
        }
    },
    "nbformat": 4,
    "nbformat_minor": 1
}